{
 "cells": [
  {
   "cell_type": "code",
   "execution_count": 22,
   "metadata": {},
   "outputs": [],
   "source": [
    "import os\n",
    "import requests\n",
    "import uuid"
   ]
  },
  {
   "cell_type": "code",
   "execution_count": 20,
   "metadata": {},
   "outputs": [],
   "source": [
    "#print(os.environ['KEY'])\n",
    "#print(os.environ['ENDPOINT'])\n",
    "#print(os.environ['LOCATION'])"
   ]
  },
  {
   "cell_type": "code",
   "execution_count": 23,
   "metadata": {},
   "outputs": [
    {
     "data": {
      "text/plain": [
       "{'error': {'code': 401000,\n",
       "  'message': 'The request is not authorized because credentials are missing or invalid.'}}"
      ]
     },
     "execution_count": 23,
     "metadata": {},
     "output_type": "execute_result"
    }
   ],
   "source": [
    "original_text = \"Welcome to Wakanda\"\n",
    "target_language = 'ru'\n",
    "key = os.environ['KEY']\n",
    "endpoint = os.environ['ENDPOINT']\n",
    "location = os.environ['LOCATION']\n",
    "path = 'translate?api-version=3.0'\n",
    "target_language_parameter = '&to=' + target_language\n",
    "constructed_url = 'https://api.cognitive.microsofttranslator.com/' + path + target_language_parameter\n",
    "headers = {\n",
    "        'Ocp-Apim-Subscription-Key': key,\n",
    "        'Ocp-Apim-Subscription-Region': location,\n",
    "        'Content-type': 'application/json',\n",
    "        'X-ClientTraceId': str(uuid.uuid4())\n",
    "    }\n",
    "body = [{ 'text': original_text }]\n",
    "\n",
    "# Make the call using \"post\" on \"requests\" and pass in the URL, headers, and body\n",
    "translator_request = requests.post(constructed_url, headers=headers, json=body)\n",
    "translator_response = translator_request.json()\n",
    "# Retrieve the translation\n",
    "translated_text = translator_response\n",
    "translated_text"
   ]
  },
  {
   "cell_type": "code",
   "execution_count": 18,
   "metadata": {},
   "outputs": [
    {
     "data": {
      "text/plain": [
       "'https://api.cognitive.microsofttranslator.com/translate?api-version=3.0&to=ru'"
      ]
     },
     "execution_count": 18,
     "metadata": {},
     "output_type": "execute_result"
    }
   ],
   "source": [
    "constructed_url"
   ]
  },
  {
   "cell_type": "code",
   "execution_count": 7,
   "metadata": {},
   "outputs": [
    {
     "data": {
      "text/plain": [
       "'https://api.cognitive.microsofttranslator.com/translate?api-version=3.0&to=es'"
      ]
     },
     "execution_count": 7,
     "metadata": {},
     "output_type": "execute_result"
    }
   ],
   "source": [
    "'https://api.cognitive.microsofttranslator.com/translate?api-version=3.0&to=es'"
   ]
  },
  {
   "cell_type": "code",
   "execution_count": null,
   "metadata": {},
   "outputs": [],
   "source": []
  }
 ],
 "metadata": {
  "kernelspec": {
   "display_name": "Python 3.9.12 ('base')",
   "language": "python",
   "name": "python3"
  },
  "language_info": {
   "codemirror_mode": {
    "name": "ipython",
    "version": 3
   },
   "file_extension": ".py",
   "mimetype": "text/x-python",
   "name": "python",
   "nbconvert_exporter": "python",
   "pygments_lexer": "ipython3",
   "version": "3.9.12"
  },
  "orig_nbformat": 4,
  "vscode": {
   "interpreter": {
    "hash": "ca8e1a675551e31a69bb80ae3f26b36ced6340b5d3941929fb9de856c408906a"
   }
  }
 },
 "nbformat": 4,
 "nbformat_minor": 2
}
